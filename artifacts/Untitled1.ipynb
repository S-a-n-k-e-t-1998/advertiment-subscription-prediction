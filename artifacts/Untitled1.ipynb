{
 "cells": [
  {
   "cell_type": "code",
   "execution_count": null,
   "id": "dcac083b",
   "metadata": {},
   "outputs": [],
   "source": [
    "                            P      K    Test    Train   \n",
    "Logostic Regression_std                 0.82     0.85\n",
    "Logostic Regression_norm                0.81     0.81\n",
    "KNN_std2                    2      5    0.88     0.92\n",
    "KNN_std1                    1      5    0.88     0.92\n",
    "KNN_norm1                   1      5    0.88     0.92\n",
    "KNN_norm2                   2      5    0.89     0.93"
   ]
  }
 ],
 "metadata": {
  "kernelspec": {
   "display_name": "Python 3 (ipykernel)",
   "language": "python",
   "name": "python3"
  },
  "language_info": {
   "codemirror_mode": {
    "name": "ipython",
    "version": 3
   },
   "file_extension": ".py",
   "mimetype": "text/x-python",
   "name": "python",
   "nbconvert_exporter": "python",
   "pygments_lexer": "ipython3",
   "version": "3.10.1"
  }
 },
 "nbformat": 4,
 "nbformat_minor": 5
}
