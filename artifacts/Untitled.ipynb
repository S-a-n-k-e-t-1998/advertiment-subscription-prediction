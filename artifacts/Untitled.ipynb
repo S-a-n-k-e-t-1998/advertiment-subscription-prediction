{
 "cells": [
  {
   "cell_type": "code",
   "execution_count": 2,
   "id": "c3dd9ea4",
   "metadata": {},
   "outputs": [],
   "source": [
    "import pandas as pd\n",
    "import numpy as np\n",
    "import matplotlib.pyplot as plt\n",
    "import seaborn as sns\n",
    "\n",
    "from sklearn.preprocessing import MinMaxScaler,StandardScaler\n",
    "\n",
    "from sklearn.linear_model import LogisticRegression,LinearRegression,RidgeClassifier\n",
    "from sklearn.neighbors import KNeighborsClassifier\n",
    "\n",
    "from sklearn.model_selection import train_test_split,GridSearchCV,RandomizedSearchCV\n",
    "\n",
    "from sklearn.metrics import accuracy_score,confusion_matrix,classification_report"
   ]
  },
  {
   "cell_type": "code",
   "execution_count": 3,
   "id": "250e12ef",
   "metadata": {},
   "outputs": [
    {
     "data": {
      "text/html": [
       "<div>\n",
       "<style scoped>\n",
       "    .dataframe tbody tr th:only-of-type {\n",
       "        vertical-align: middle;\n",
       "    }\n",
       "\n",
       "    .dataframe tbody tr th {\n",
       "        vertical-align: top;\n",
       "    }\n",
       "\n",
       "    .dataframe thead th {\n",
       "        text-align: right;\n",
       "    }\n",
       "</style>\n",
       "<table border=\"1\" class=\"dataframe\">\n",
       "  <thead>\n",
       "    <tr style=\"text-align: right;\">\n",
       "      <th></th>\n",
       "      <th>User ID</th>\n",
       "      <th>Gender</th>\n",
       "      <th>Age</th>\n",
       "      <th>EstimatedSalary</th>\n",
       "      <th>Purchased</th>\n",
       "    </tr>\n",
       "  </thead>\n",
       "  <tbody>\n",
       "    <tr>\n",
       "      <th>0</th>\n",
       "      <td>15624510</td>\n",
       "      <td>Male</td>\n",
       "      <td>19</td>\n",
       "      <td>19000</td>\n",
       "      <td>0</td>\n",
       "    </tr>\n",
       "    <tr>\n",
       "      <th>1</th>\n",
       "      <td>15810944</td>\n",
       "      <td>Male</td>\n",
       "      <td>35</td>\n",
       "      <td>20000</td>\n",
       "      <td>0</td>\n",
       "    </tr>\n",
       "    <tr>\n",
       "      <th>2</th>\n",
       "      <td>15668575</td>\n",
       "      <td>Female</td>\n",
       "      <td>26</td>\n",
       "      <td>43000</td>\n",
       "      <td>0</td>\n",
       "    </tr>\n",
       "    <tr>\n",
       "      <th>3</th>\n",
       "      <td>15603246</td>\n",
       "      <td>Female</td>\n",
       "      <td>27</td>\n",
       "      <td>57000</td>\n",
       "      <td>0</td>\n",
       "    </tr>\n",
       "    <tr>\n",
       "      <th>4</th>\n",
       "      <td>15804002</td>\n",
       "      <td>Male</td>\n",
       "      <td>19</td>\n",
       "      <td>76000</td>\n",
       "      <td>0</td>\n",
       "    </tr>\n",
       "    <tr>\n",
       "      <th>...</th>\n",
       "      <td>...</td>\n",
       "      <td>...</td>\n",
       "      <td>...</td>\n",
       "      <td>...</td>\n",
       "      <td>...</td>\n",
       "    </tr>\n",
       "    <tr>\n",
       "      <th>395</th>\n",
       "      <td>15691863</td>\n",
       "      <td>Female</td>\n",
       "      <td>46</td>\n",
       "      <td>41000</td>\n",
       "      <td>1</td>\n",
       "    </tr>\n",
       "    <tr>\n",
       "      <th>396</th>\n",
       "      <td>15706071</td>\n",
       "      <td>Male</td>\n",
       "      <td>51</td>\n",
       "      <td>23000</td>\n",
       "      <td>1</td>\n",
       "    </tr>\n",
       "    <tr>\n",
       "      <th>397</th>\n",
       "      <td>15654296</td>\n",
       "      <td>Female</td>\n",
       "      <td>50</td>\n",
       "      <td>20000</td>\n",
       "      <td>1</td>\n",
       "    </tr>\n",
       "    <tr>\n",
       "      <th>398</th>\n",
       "      <td>15755018</td>\n",
       "      <td>Male</td>\n",
       "      <td>36</td>\n",
       "      <td>33000</td>\n",
       "      <td>0</td>\n",
       "    </tr>\n",
       "    <tr>\n",
       "      <th>399</th>\n",
       "      <td>15594041</td>\n",
       "      <td>Female</td>\n",
       "      <td>49</td>\n",
       "      <td>36000</td>\n",
       "      <td>1</td>\n",
       "    </tr>\n",
       "  </tbody>\n",
       "</table>\n",
       "<p>400 rows × 5 columns</p>\n",
       "</div>"
      ],
      "text/plain": [
       "      User ID  Gender  Age  EstimatedSalary  Purchased\n",
       "0    15624510    Male   19            19000          0\n",
       "1    15810944    Male   35            20000          0\n",
       "2    15668575  Female   26            43000          0\n",
       "3    15603246  Female   27            57000          0\n",
       "4    15804002    Male   19            76000          0\n",
       "..        ...     ...  ...              ...        ...\n",
       "395  15691863  Female   46            41000          1\n",
       "396  15706071    Male   51            23000          1\n",
       "397  15654296  Female   50            20000          1\n",
       "398  15755018    Male   36            33000          0\n",
       "399  15594041  Female   49            36000          1\n",
       "\n",
       "[400 rows x 5 columns]"
      ]
     },
     "execution_count": 3,
     "metadata": {},
     "output_type": "execute_result"
    }
   ],
   "source": [
    "df=pd.read_csv(r\"E:\\10.python\\project\\advertiment_prediction\\advertiment-subscription-prediction\\artifacts\\Social_Network_Ads.csv\")\n",
    "df"
   ]
  },
  {
   "cell_type": "code",
   "execution_count": 4,
   "id": "3864da46",
   "metadata": {},
   "outputs": [
    {
     "name": "stdout",
     "output_type": "stream",
     "text": [
      "<class 'pandas.core.frame.DataFrame'>\n",
      "RangeIndex: 400 entries, 0 to 399\n",
      "Data columns (total 5 columns):\n",
      " #   Column           Non-Null Count  Dtype \n",
      "---  ------           --------------  ----- \n",
      " 0   User ID          400 non-null    int64 \n",
      " 1   Gender           400 non-null    object\n",
      " 2   Age              400 non-null    int64 \n",
      " 3   EstimatedSalary  400 non-null    int64 \n",
      " 4   Purchased        400 non-null    int64 \n",
      "dtypes: int64(4), object(1)\n",
      "memory usage: 15.8+ KB\n"
     ]
    }
   ],
   "source": [
    "df.info()"
   ]
  },
  {
   "cell_type": "code",
   "execution_count": 5,
   "id": "ed9a8518",
   "metadata": {},
   "outputs": [
    {
     "data": {
      "text/plain": [
       "<AxesSubplot:>"
      ]
     },
     "execution_count": 5,
     "metadata": {},
     "output_type": "execute_result"
    },
    {
     "data": {
      "image/png": "[encoded data removed]",
      "text/plain": [
       "<Figure size 432x288 with 2 Axes>"
      ]
     },
     "metadata": {
      "needs_background": "light"
     },
     "output_type": "display_data"
    }
   ],
   "source": [
    "sns.heatmap(df.isnull())"
   ]
  },
  {
   "cell_type": "code",
   "execution_count": 6,
   "id": "4e3b9b7e",
   "metadata": {},
   "outputs": [
    {
     "data": {
      "text/plain": [
       "<AxesSubplot:>"
      ]
     },
     "execution_count": 6,
     "metadata": {},
     "output_type": "execute_result"
    },
    {
     "data": {
      "image/png": "[encoded data removed]",
      "text/plain": [
       "<Figure size 432x288 with 1 Axes>"
      ]
     },
     "metadata": {
      "needs_background": "light"
     },
     "output_type": "display_data"
    }
   ],
   "source": [
    "df.boxplot()"
   ]
  },
  {
   "cell_type": "code",
   "execution_count": 7,
   "id": "ed541ae4",
   "metadata": {},
   "outputs": [
    {
     "ename": "SyntaxError",
     "evalue": "invalid syntax (3840085184.py, line 1)",
     "output_type": "error",
     "traceback": [
      "\u001b[1;36m  File \u001b[1;32m\"C:\\Users\\91703\\AppData\\Local\\Temp\\ipykernel_23804\\3840085184.py\"\u001b[1;36m, line \u001b[1;32m1\u001b[0m\n\u001b[1;33m    1. No outliers\u001b[0m\n\u001b[1;37m        ^\u001b[0m\n\u001b[1;31mSyntaxError\u001b[0m\u001b[1;31m:\u001b[0m invalid syntax\n"
     ]
    }
   ],
   "source": [
    "1. No outliers\n",
    "2. No Missing values"
   ]
  },
  {
   "cell_type": "code",
   "execution_count": 8,
   "id": "692f6b5e",
   "metadata": {},
   "outputs": [
    {
     "data": {
      "text/plain": [
       "400"
      ]
     },
     "execution_count": 8,
     "metadata": {},
     "output_type": "execute_result"
    }
   ],
   "source": [
    "df[\"User ID\"].nunique()"
   ]
  },
  {
   "cell_type": "code",
   "execution_count": 9,
   "id": "36b7c308",
   "metadata": {},
   "outputs": [],
   "source": [
    "# drop User ID column"
   ]
  },
  {
   "cell_type": "code",
   "execution_count": 10,
   "id": "97d77d45",
   "metadata": {},
   "outputs": [],
   "source": [
    "df.drop([\"User ID\"],axis=1,inplace=True)"
   ]
  },
  {
   "cell_type": "code",
   "execution_count": 11,
   "id": "88eb4d1c",
   "metadata": {},
   "outputs": [],
   "source": [
    "# label encoding on Gender"
   ]
  },
  {
   "cell_type": "code",
   "execution_count": 12,
   "id": "b9bc8efc",
   "metadata": {},
   "outputs": [],
   "source": [
    "df['Gender'].replace({\"Male\":1,\"Female\":0},inplace=True)"
   ]
  },
  {
   "cell_type": "code",
   "execution_count": 13,
   "id": "5eec902b",
   "metadata": {},
   "outputs": [],
   "source": [
    "x=df.drop(['Purchased'],axis=1)\n",
    "y=df['Purchased']\n",
    "# y"
   ]
  },
  {
   "cell_type": "code",
   "execution_count": 14,
   "id": "138b03a5",
   "metadata": {},
   "outputs": [],
   "source": [
    "# train test split"
   ]
  },
  {
   "cell_type": "code",
   "execution_count": 15,
   "id": "a4408f6e",
   "metadata": {},
   "outputs": [
    {
     "data": {
      "text/html": [
       "<div>\n",
       "<style scoped>\n",
       "    .dataframe tbody tr th:only-of-type {\n",
       "        vertical-align: middle;\n",
       "    }\n",
       "\n",
       "    .dataframe tbody tr th {\n",
       "        vertical-align: top;\n",
       "    }\n",
       "\n",
       "    .dataframe thead th {\n",
       "        text-align: right;\n",
       "    }\n",
       "</style>\n",
       "<table border=\"1\" class=\"dataframe\">\n",
       "  <thead>\n",
       "    <tr style=\"text-align: right;\">\n",
       "      <th></th>\n",
       "      <th>Gender</th>\n",
       "      <th>Age</th>\n",
       "      <th>EstimatedSalary</th>\n",
       "    </tr>\n",
       "  </thead>\n",
       "  <tbody>\n",
       "    <tr>\n",
       "      <th>235</th>\n",
       "      <td>1</td>\n",
       "      <td>46</td>\n",
       "      <td>79000</td>\n",
       "    </tr>\n",
       "    <tr>\n",
       "      <th>114</th>\n",
       "      <td>1</td>\n",
       "      <td>42</td>\n",
       "      <td>80000</td>\n",
       "    </tr>\n",
       "  </tbody>\n",
       "</table>\n",
       "</div>"
      ],
      "text/plain": [
       "     Gender  Age  EstimatedSalary\n",
       "235       1   46            79000\n",
       "114       1   42            80000"
      ]
     },
     "execution_count": 15,
     "metadata": {},
     "output_type": "execute_result"
    }
   ],
   "source": [
    "x_train,x_test,y_train,y_test=train_test_split(x,y,test_size=0.2,random_state=5,stratify=y)\n",
    "x_train[0:2]"
   ]
  },
  {
   "cell_type": "markdown",
   "id": "a7dc2f42",
   "metadata": {},
   "source": [
    "## Normalisation"
   ]
  },
  {
   "cell_type": "code",
   "execution_count": null,
   "id": "92720872",
   "metadata": {},
   "outputs": [],
   "source": []
  },
  {
   "cell_type": "code",
   "execution_count": 17,
   "id": "eb15727d",
   "metadata": {},
   "outputs": [],
   "source": [
    "norm_model=MinMaxScaler()\n",
    "norm_model.fit(x_train)\n",
    "x_train=norm_model.transform(x_train)\n",
    "x_test=norm_model.transform(x_test)"
   ]
  },
  {
   "cell_type": "code",
   "execution_count": null,
   "id": "a583c8fd",
   "metadata": {},
   "outputs": [],
   "source": []
  },
  {
   "cell_type": "code",
   "execution_count": 45,
   "id": "dca4e01b",
   "metadata": {},
   "outputs": [],
   "source": [
    "[x_train.columns]\n",
    "# x_test [x_test.columns]"
   ]
  },
  {
   "cell_type": "code",
   "execution_count": null,
   "id": "3a1baa32",
   "metadata": {},
   "outputs": [],
   "source": []
  },
  {
   "cell_type": "code",
   "execution_count": 46,
   "id": "48d9675c",
   "metadata": {},
   "outputs": [
    {
     "data": {
      "text/html": [
       "<div>\n",
       "<style scoped>\n",
       "    .dataframe tbody tr th:only-of-type {\n",
       "        vertical-align: middle;\n",
       "    }\n",
       "\n",
       "    .dataframe tbody tr th {\n",
       "        vertical-align: top;\n",
       "    }\n",
       "\n",
       "    .dataframe thead th {\n",
       "        text-align: right;\n",
       "    }\n",
       "</style>\n",
       "<table border=\"1\" class=\"dataframe\">\n",
       "  <thead>\n",
       "    <tr style=\"text-align: right;\">\n",
       "      <th></th>\n",
       "      <th>Gender</th>\n",
       "      <th>Age</th>\n",
       "      <th>EstimatedSalary</th>\n",
       "    </tr>\n",
       "  </thead>\n",
       "  <tbody>\n",
       "    <tr>\n",
       "      <th>235</th>\n",
       "      <td>1.0</td>\n",
       "      <td>0.666667</td>\n",
       "      <td>0.474074</td>\n",
       "    </tr>\n",
       "    <tr>\n",
       "      <th>114</th>\n",
       "      <td>1.0</td>\n",
       "      <td>0.571429</td>\n",
       "      <td>0.481481</td>\n",
       "    </tr>\n",
       "    <tr>\n",
       "      <th>388</th>\n",
       "      <td>1.0</td>\n",
       "      <td>0.690476</td>\n",
       "      <td>0.140741</td>\n",
       "    </tr>\n",
       "    <tr>\n",
       "      <th>288</th>\n",
       "      <td>1.0</td>\n",
       "      <td>0.547619</td>\n",
       "      <td>0.474074</td>\n",
       "    </tr>\n",
       "    <tr>\n",
       "      <th>186</th>\n",
       "      <td>0.0</td>\n",
       "      <td>0.047619</td>\n",
       "      <td>0.496296</td>\n",
       "    </tr>\n",
       "    <tr>\n",
       "      <th>...</th>\n",
       "      <td>...</td>\n",
       "      <td>...</td>\n",
       "      <td>...</td>\n",
       "    </tr>\n",
       "    <tr>\n",
       "      <th>14</th>\n",
       "      <td>1.0</td>\n",
       "      <td>0.000000</td>\n",
       "      <td>0.496296</td>\n",
       "    </tr>\n",
       "    <tr>\n",
       "      <th>267</th>\n",
       "      <td>1.0</td>\n",
       "      <td>0.452381</td>\n",
       "      <td>0.437037</td>\n",
       "    </tr>\n",
       "    <tr>\n",
       "      <th>368</th>\n",
       "      <td>1.0</td>\n",
       "      <td>0.476190</td>\n",
       "      <td>0.414815</td>\n",
       "    </tr>\n",
       "    <tr>\n",
       "      <th>373</th>\n",
       "      <td>1.0</td>\n",
       "      <td>0.976190</td>\n",
       "      <td>0.851852</td>\n",
       "    </tr>\n",
       "    <tr>\n",
       "      <th>353</th>\n",
       "      <td>0.0</td>\n",
       "      <td>0.452381</td>\n",
       "      <td>0.311111</td>\n",
       "    </tr>\n",
       "  </tbody>\n",
       "</table>\n",
       "<p>320 rows × 3 columns</p>\n",
       "</div>"
      ],
      "text/plain": [
       "     Gender       Age  EstimatedSalary\n",
       "235     1.0  0.666667         0.474074\n",
       "114     1.0  0.571429         0.481481\n",
       "388     1.0  0.690476         0.140741\n",
       "288     1.0  0.547619         0.474074\n",
       "186     0.0  0.047619         0.496296\n",
       "..      ...       ...              ...\n",
       "14      1.0  0.000000         0.496296\n",
       "267     1.0  0.452381         0.437037\n",
       "368     1.0  0.476190         0.414815\n",
       "373     1.0  0.976190         0.851852\n",
       "353     0.0  0.452381         0.311111\n",
       "\n",
       "[320 rows x 3 columns]"
      ]
     },
     "execution_count": 46,
     "metadata": {},
     "output_type": "execute_result"
    }
   ],
   "source": [
    "x_train"
   ]
  },
  {
   "cell_type": "markdown",
   "id": "b71bc9eb",
   "metadata": {},
   "source": [
    "# standardition"
   ]
  },
  {
   "cell_type": "code",
   "execution_count": 47,
   "id": "6c4a9934",
   "metadata": {},
   "outputs": [],
   "source": [
    "# std_model=StandardScaler()\n",
    "# std_model.fit(x_train[[\"Age\",\"Age\",\"EstimatedSalary\"]])\n",
    "# x_train[[\"Age\",\"Age\",\"EstimatedSalary\"]]=std_model.transform(x_train[[\"Age\",\"Age\",\"EstimatedSalary\"]])\n",
    "# x_test[[\"Age\",\"Age\",\"EstimatedSalary\"]]=std_model.transform(x_test[[\"Age\",\"Age\",\"EstimatedSalary\"]])"
   ]
  },
  {
   "cell_type": "code",
   "execution_count": null,
   "id": "3e00c78b",
   "metadata": {},
   "outputs": [],
   "source": []
  },
  {
   "cell_type": "markdown",
   "id": "a277461a",
   "metadata": {},
   "source": [
    "# Logistic Regression"
   ]
  },
  {
   "cell_type": "code",
   "execution_count": 19,
   "id": "4e7a05ad",
   "metadata": {},
   "outputs": [
    {
     "data": {
      "text/plain": [
       "LogisticRegression()"
      ]
     },
     "execution_count": 19,
     "metadata": {},
     "output_type": "execute_result"
    }
   ],
   "source": [
    "Log_model=LogisticRegression()\n",
    "Log_model.fit(x_train,y_train)"
   ]
  },
  {
   "cell_type": "code",
   "execution_count": 20,
   "id": "6c3aa6f7",
   "metadata": {},
   "outputs": [],
   "source": [
    "# Testing evalution"
   ]
  },
  {
   "cell_type": "code",
   "execution_count": 21,
   "id": "1aaaaaa9",
   "metadata": {},
   "outputs": [
    {
     "name": "stdout",
     "output_type": "stream",
     "text": [
      "Accuracy score by Logistic Regression :: 0.8125\n",
      "conf_matrix by Logistic Regression ::\n",
      " [[48  3]\n",
      " [12 17]]\n",
      "classification report by Logistic Regression ::\n",
      "               precision    recall  f1-score   support\n",
      "\n",
      "           0       0.80      0.94      0.86        51\n",
      "           1       0.85      0.59      0.69        29\n",
      "\n",
      "    accuracy                           0.81        80\n",
      "   macro avg       0.82      0.76      0.78        80\n",
      "weighted avg       0.82      0.81      0.80        80\n",
      "\n"
     ]
    }
   ],
   "source": [
    "y_pred=Log_model.predict(x_test)\n",
    "\n",
    "acc_score=accuracy_score(y_test,y_pred)\n",
    "print(\"Accuracy score by Logistic Regression ::\",acc_score)\n",
    "\n",
    "conf_matrix=confusion_matrix(y_test,y_pred)\n",
    "print(\"conf_matrix by Logistic Regression ::\\n\",conf_matrix)\n",
    "\n",
    "class_report=classification_report(y_test,y_pred)\n",
    "print(\"classification report by Logistic Regression ::\\n\",class_report)"
   ]
  },
  {
   "cell_type": "code",
   "execution_count": 22,
   "id": "bd747465",
   "metadata": {},
   "outputs": [],
   "source": [
    "# Training evalution"
   ]
  },
  {
   "cell_type": "code",
   "execution_count": 23,
   "id": "b9ec3fc4",
   "metadata": {},
   "outputs": [
    {
     "name": "stdout",
     "output_type": "stream",
     "text": [
      "Accuracy score by Logistic Regression :: 0.81875\n",
      "conf_matrix by Logistic Regression ::\n",
      " [[193  13]\n",
      " [ 45  69]]\n",
      "classification report by Logistic Regression ::\n",
      "               precision    recall  f1-score   support\n",
      "\n",
      "           0       0.81      0.94      0.87       206\n",
      "           1       0.84      0.61      0.70       114\n",
      "\n",
      "    accuracy                           0.82       320\n",
      "   macro avg       0.83      0.77      0.79       320\n",
      "weighted avg       0.82      0.82      0.81       320\n",
      "\n"
     ]
    }
   ],
   "source": [
    "y_pred_train=Log_model.predict(x_train)\n",
    "\n",
    "acc_score1=accuracy_score(y_train,y_pred_train)\n",
    "print(\"Accuracy score by Logistic Regression ::\",acc_score1)\n",
    "\n",
    "conf_matrix1=confusion_matrix(y_train,y_pred_train)\n",
    "print(\"conf_matrix by Logistic Regression ::\\n\",conf_matrix1)\n",
    "\n",
    "class_report1=classification_report(y_train,y_pred_train)\n",
    "print(\"classification report by Logistic Regression ::\\n\",class_report1)"
   ]
  },
  {
   "cell_type": "code",
   "execution_count": 24,
   "id": "b1b0e72f",
   "metadata": {},
   "outputs": [],
   "source": [
    "# sns.kdeplot(df['Age'])"
   ]
  },
  {
   "cell_type": "code",
   "execution_count": 25,
   "id": "cba6f8b9",
   "metadata": {},
   "outputs": [],
   "source": [
    "# sns.kdeplot(df['EstimatedSalary'])"
   ]
  },
  {
   "cell_type": "code",
   "execution_count": 26,
   "id": "d458433e",
   "metadata": {},
   "outputs": [],
   "source": [
    "# df['EstimatedSalary'].sort_values()"
   ]
  },
  {
   "cell_type": "code",
   "execution_count": 27,
   "id": "d4b3ad54",
   "metadata": {},
   "outputs": [
    {
     "data": {
      "text/plain": [
       "KNeighborsClassifier()"
      ]
     },
     "execution_count": 27,
     "metadata": {},
     "output_type": "execute_result"
    }
   ],
   "source": [
    "KNN_model=KNeighborsClassifier(p=2)\n",
    "KNN_model.fit(x_train,y_train)"
   ]
  },
  {
   "cell_type": "code",
   "execution_count": 28,
   "id": "ab63f779",
   "metadata": {},
   "outputs": [
    {
     "name": "stdout",
     "output_type": "stream",
     "text": [
      "Accuracy score by Logistic Regression :: 0.8875\n",
      "conf_matrix by Logistic Regression ::\n",
      " [[47  4]\n",
      " [ 5 24]]\n",
      "classification report by Logistic Regression ::\n",
      "               precision    recall  f1-score   support\n",
      "\n",
      "           0       0.90      0.92      0.91        51\n",
      "           1       0.86      0.83      0.84        29\n",
      "\n",
      "    accuracy                           0.89        80\n",
      "   macro avg       0.88      0.87      0.88        80\n",
      "weighted avg       0.89      0.89      0.89        80\n",
      "\n"
     ]
    }
   ],
   "source": [
    "y_pred=KNN_model.predict(x_test)\n",
    "\n",
    "acc_score=accuracy_score(y_test,y_pred)\n",
    "print(\"Accuracy score by Logistic Regression ::\",acc_score)\n",
    "\n",
    "conf_matrix=confusion_matrix(y_test,y_pred)\n",
    "print(\"conf_matrix by Logistic Regression ::\\n\",conf_matrix)\n",
    "\n",
    "class_report=classification_report(y_test,y_pred)\n",
    "print(\"classification report by Logistic Regression ::\\n\",class_report)"
   ]
  },
  {
   "cell_type": "code",
   "execution_count": 29,
   "id": "c931fba7",
   "metadata": {},
   "outputs": [
    {
     "name": "stdout",
     "output_type": "stream",
     "text": [
      "Accuracy score by Logistic Regression :: 0.925\n",
      "conf_matrix by Logistic Regression ::\n",
      " [[190  16]\n",
      " [  8 106]]\n",
      "classification report by Logistic Regression ::\n",
      "               precision    recall  f1-score   support\n",
      "\n",
      "           0       0.96      0.92      0.94       206\n",
      "           1       0.87      0.93      0.90       114\n",
      "\n",
      "    accuracy                           0.93       320\n",
      "   macro avg       0.91      0.93      0.92       320\n",
      "weighted avg       0.93      0.93      0.93       320\n",
      "\n"
     ]
    }
   ],
   "source": [
    "y_pred_train=KNN_model.predict(x_train)\n",
    "\n",
    "acc_score1=accuracy_score(y_train,y_pred_train)\n",
    "print(\"Accuracy score by Logistic Regression ::\",acc_score1)\n",
    "\n",
    "conf_matrix1=confusion_matrix(y_train,y_pred_train)\n",
    "print(\"conf_matrix by Logistic Regression ::\\n\",conf_matrix1)\n",
    "\n",
    "class_report1=classification_report(y_train,y_pred_train)\n",
    "print(\"classification report by Logistic Regression ::\\n\",class_report1)"
   ]
  },
  {
   "cell_type": "code",
   "execution_count": 30,
   "id": "019a20a3",
   "metadata": {},
   "outputs": [],
   "source": [
    "# y_p_train=KNN_model.predict(a)\n",
    "# y_p_train"
   ]
  },
  {
   "cell_type": "code",
   "execution_count": 31,
   "id": "41a5b775",
   "metadata": {},
   "outputs": [],
   "source": [
    "# a=norm_model.transform([df.loc[114,[\"Gender\",\"Age\",\"EstimatedSalary\"]]])"
   ]
  },
  {
   "cell_type": "code",
   "execution_count": 32,
   "id": "5566cc1d",
   "metadata": {},
   "outputs": [],
   "source": [
    "# x_train"
   ]
  },
  {
   "cell_type": "code",
   "execution_count": 33,
   "id": "791342ef",
   "metadata": {},
   "outputs": [],
   "source": [
    "# df.loc[114,:]"
   ]
  },
  {
   "cell_type": "code",
   "execution_count": 34,
   "id": "6012ece2",
   "metadata": {},
   "outputs": [],
   "source": [
    "# y_pred_train[0:2]"
   ]
  },
  {
   "cell_type": "code",
   "execution_count": 35,
   "id": "3a2221be",
   "metadata": {},
   "outputs": [],
   "source": [
    "# x_train.head(2)"
   ]
  },
  {
   "cell_type": "code",
   "execution_count": 36,
   "id": "71e8fff8",
   "metadata": {},
   "outputs": [],
   "source": [
    "# df.loc[235,:]"
   ]
  },
  {
   "cell_type": "code",
   "execution_count": 66,
   "id": "4298bea8",
   "metadata": {},
   "outputs": [],
   "source": [
    "# Hyper parameter tuning"
   ]
  },
  {
   "cell_type": "code",
   "execution_count": 67,
   "id": "027661eb",
   "metadata": {},
   "outputs": [
    {
     "data": {
      "text/plain": [
       "KNeighborsClassifier(p=1)"
      ]
     },
     "execution_count": 67,
     "metadata": {},
     "output_type": "execute_result"
    }
   ],
   "source": [
    "g_model=KNeighborsClassifier()\n",
    "hyp={\"p\":[1,2],\n",
    "    \"n_neighbors\":np.arange(3,20)}\n",
    "gscv_model=GridSearchCV(g_model,hyp,cv=5)\n",
    "gscv_model.fit(x_train,y_train)\n",
    "gscv_model.best_estimator_"
   ]
  },
  {
   "cell_type": "code",
   "execution_count": 52,
   "id": "73738980",
   "metadata": {},
   "outputs": [
    {
     "data": {
      "text/plain": [
       "KNeighborsClassifier(p=1)"
      ]
     },
     "execution_count": 52,
     "metadata": {},
     "output_type": "execute_result"
    }
   ],
   "source": [
    "g1_model=KNeighborsClassifier()\n",
    "hyp={\"p\":[1,2],\n",
    "    \"n_neighbors\":np.arange(3,20)}\n",
    "rmcv_model=RandomizedSearchCV(g1_model,hyp,cv=5)\n",
    "rmcv_model.fit(x_train,y_train)\n",
    "rmcv_model.best_estimator_"
   ]
  },
  {
   "cell_type": "code",
   "execution_count": 53,
   "id": "bdfa5c67",
   "metadata": {},
   "outputs": [],
   "source": [
    "# save model"
   ]
  },
  {
   "cell_type": "code",
   "execution_count": 37,
   "id": "e9e0b91a",
   "metadata": {},
   "outputs": [],
   "source": [
    "import pickle"
   ]
  },
  {
   "cell_type": "code",
   "execution_count": 38,
   "id": "958a4527",
   "metadata": {},
   "outputs": [],
   "source": [
    "pickle.dump(KNN_model,open(\"K_model.pkl\",'wb'))"
   ]
  },
  {
   "cell_type": "code",
   "execution_count": 39,
   "id": "a22cf240",
   "metadata": {},
   "outputs": [],
   "source": [
    "pickle.dump(norm_model,open(\"Scale_model.pkl\",'wb'))"
   ]
  },
  {
   "cell_type": "code",
   "execution_count": 57,
   "id": "05699da2",
   "metadata": {},
   "outputs": [
    {
     "data": {
      "text/plain": [
       "Index(['Gender', 'Age', 'EstimatedSalary'], dtype='object')"
      ]
     },
     "execution_count": 57,
     "metadata": {},
     "output_type": "execute_result"
    }
   ],
   "source": [
    "x_train.columns"
   ]
  },
  {
   "cell_type": "code",
   "execution_count": 58,
   "id": "e131dddc",
   "metadata": {},
   "outputs": [
    {
     "data": {
      "text/html": [
       "<div>\n",
       "<style scoped>\n",
       "    .dataframe tbody tr th:only-of-type {\n",
       "        vertical-align: middle;\n",
       "    }\n",
       "\n",
       "    .dataframe tbody tr th {\n",
       "        vertical-align: top;\n",
       "    }\n",
       "\n",
       "    .dataframe thead th {\n",
       "        text-align: right;\n",
       "    }\n",
       "</style>\n",
       "<table border=\"1\" class=\"dataframe\">\n",
       "  <thead>\n",
       "    <tr style=\"text-align: right;\">\n",
       "      <th></th>\n",
       "      <th>Gender</th>\n",
       "      <th>Age</th>\n",
       "      <th>EstimatedSalary</th>\n",
       "      <th>Purchased</th>\n",
       "    </tr>\n",
       "  </thead>\n",
       "  <tbody>\n",
       "    <tr>\n",
       "      <th>0</th>\n",
       "      <td>1</td>\n",
       "      <td>19</td>\n",
       "      <td>19000</td>\n",
       "      <td>0</td>\n",
       "    </tr>\n",
       "    <tr>\n",
       "      <th>1</th>\n",
       "      <td>1</td>\n",
       "      <td>35</td>\n",
       "      <td>20000</td>\n",
       "      <td>0</td>\n",
       "    </tr>\n",
       "    <tr>\n",
       "      <th>2</th>\n",
       "      <td>0</td>\n",
       "      <td>26</td>\n",
       "      <td>43000</td>\n",
       "      <td>0</td>\n",
       "    </tr>\n",
       "    <tr>\n",
       "      <th>3</th>\n",
       "      <td>0</td>\n",
       "      <td>27</td>\n",
       "      <td>57000</td>\n",
       "      <td>0</td>\n",
       "    </tr>\n",
       "    <tr>\n",
       "      <th>4</th>\n",
       "      <td>1</td>\n",
       "      <td>19</td>\n",
       "      <td>76000</td>\n",
       "      <td>0</td>\n",
       "    </tr>\n",
       "    <tr>\n",
       "      <th>...</th>\n",
       "      <td>...</td>\n",
       "      <td>...</td>\n",
       "      <td>...</td>\n",
       "      <td>...</td>\n",
       "    </tr>\n",
       "    <tr>\n",
       "      <th>395</th>\n",
       "      <td>0</td>\n",
       "      <td>46</td>\n",
       "      <td>41000</td>\n",
       "      <td>1</td>\n",
       "    </tr>\n",
       "    <tr>\n",
       "      <th>396</th>\n",
       "      <td>1</td>\n",
       "      <td>51</td>\n",
       "      <td>23000</td>\n",
       "      <td>1</td>\n",
       "    </tr>\n",
       "    <tr>\n",
       "      <th>397</th>\n",
       "      <td>0</td>\n",
       "      <td>50</td>\n",
       "      <td>20000</td>\n",
       "      <td>1</td>\n",
       "    </tr>\n",
       "    <tr>\n",
       "      <th>398</th>\n",
       "      <td>1</td>\n",
       "      <td>36</td>\n",
       "      <td>33000</td>\n",
       "      <td>0</td>\n",
       "    </tr>\n",
       "    <tr>\n",
       "      <th>399</th>\n",
       "      <td>0</td>\n",
       "      <td>49</td>\n",
       "      <td>36000</td>\n",
       "      <td>1</td>\n",
       "    </tr>\n",
       "  </tbody>\n",
       "</table>\n",
       "<p>400 rows × 4 columns</p>\n",
       "</div>"
      ],
      "text/plain": [
       "     Gender  Age  EstimatedSalary  Purchased\n",
       "0         1   19            19000          0\n",
       "1         1   35            20000          0\n",
       "2         0   26            43000          0\n",
       "3         0   27            57000          0\n",
       "4         1   19            76000          0\n",
       "..      ...  ...              ...        ...\n",
       "395       0   46            41000          1\n",
       "396       1   51            23000          1\n",
       "397       0   50            20000          1\n",
       "398       1   36            33000          0\n",
       "399       0   49            36000          1\n",
       "\n",
       "[400 rows x 4 columns]"
      ]
     },
     "execution_count": 58,
     "metadata": {},
     "output_type": "execute_result"
    }
   ],
   "source": [
    "df"
   ]
  },
  {
   "cell_type": "code",
   "execution_count": null,
   "id": "a14f7ed3",
   "metadata": {},
   "outputs": [],
   "source": [
    "pickle.load(open(\"Normal_Scale_model.pkl\",'wb'))"
   ]
  },
  {
   "cell_type": "code",
   "execution_count": 226,
   "id": "2a04a488",
   "metadata": {},
   "outputs": [
    {
     "data": {
      "text/plain": [
       "array([0, 0, 0, 0, 1, 0, 0, 1, 1, 0, 0, 0, 0, 0, 0, 0, 0, 0, 0, 0, 0, 0,\n",
       "       1, 0, 0, 0, 1, 1, 0, 1, 0, 1, 0, 0, 1, 0, 0, 0, 0, 0, 1, 1, 0, 0,\n",
       "       0, 0, 0, 0, 1, 1, 0, 1, 0, 1, 1, 0, 0, 0, 1, 0, 1, 1, 0, 1, 1, 0,\n",
       "       1, 1, 0, 1, 1, 1, 1, 0, 0, 0, 0, 0, 1, 0], dtype=int64)"
      ]
     },
     "execution_count": 226,
     "metadata": {},
     "output_type": "execute_result"
    }
   ],
   "source": [
    "y_pred"
   ]
  },
  {
   "cell_type": "code",
   "execution_count": 227,
   "id": "1021bb1f",
   "metadata": {},
   "outputs": [
    {
     "data": {
      "text/plain": [
       "array([1, 0, 1, 0, 0, 1, 0, 1, 0, 1, 0, 1, 0, 0, 0, 1, 0, 0, 0, 1, 1, 1,\n",
       "       0, 0, 0, 1, 0, 0, 0, 1, 0, 1, 0, 0, 0, 1, 1, 0, 0, 0, 1, 0, 0, 0,\n",
       "       0, 0, 0, 1, 1, 0, 0, 1, 1, 0, 0, 0, 1, 1, 0, 1, 0, 1, 1, 0, 1, 0,\n",
       "       0, 1, 1, 1, 1, 0, 0, 1, 1, 0, 0, 1, 0, 1, 0, 1, 1, 0, 0, 1, 0, 0,\n",
       "       1, 0, 0, 1, 0, 1, 0, 0, 1, 0, 1, 1, 0, 0, 1, 1, 0, 1, 0, 0, 0, 1,\n",
       "       0, 1, 0, 0, 1, 0, 1, 1, 1, 0, 1, 0, 0, 0, 1, 0, 0, 1, 0, 0, 1, 0,\n",
       "       0, 0, 0, 1, 0, 1, 1, 0, 1, 0, 0, 1, 0, 0, 1, 0, 1, 0, 0, 0, 1, 0,\n",
       "       0, 0, 1, 1, 1, 0, 0, 0, 1, 1, 0, 0, 1, 1, 0, 0, 1, 0, 1, 1, 0, 0,\n",
       "       0, 0, 0, 0, 1, 1, 0, 0, 0, 1, 0, 0, 0, 1, 0, 1, 1, 0, 0, 0, 0, 0,\n",
       "       0, 1, 0, 0, 0, 0, 0, 1, 0, 0, 1, 0, 0, 0, 0, 0, 1, 0, 0, 0, 0, 0,\n",
       "       1, 0, 0, 0, 1, 1, 0, 0, 1, 0, 1, 0, 1, 0, 1, 1, 1, 0, 0, 0, 1, 0,\n",
       "       0, 0, 0, 0, 0, 0, 0, 0, 0, 0, 1, 1, 1, 0, 1, 0, 1, 0, 0, 1, 0, 0,\n",
       "       1, 0, 0, 0, 1, 0, 0, 0, 1, 1, 0, 0, 1, 1, 0, 0, 0, 0, 1, 1, 0, 0,\n",
       "       0, 0, 1, 1, 0, 0, 0, 0, 0, 1, 0, 0, 0, 0, 1, 0, 1, 0, 0, 1, 0, 1,\n",
       "       1, 1, 1, 1, 0, 1, 1, 0, 0, 0, 1, 0], dtype=int64)"
      ]
     },
     "execution_count": 227,
     "metadata": {},
     "output_type": "execute_result"
    }
   ],
   "source": [
    ",y_pred_train"
   ]
  },
  {
   "cell_type": "code",
   "execution_count": 228,
   "id": "94f1af91",
   "metadata": {},
   "outputs": [
    {
     "data": {
      "text/plain": [
       "235    1\n",
       "114    0\n",
       "388    1\n",
       "288    0\n",
       "186    0\n",
       "      ..\n",
       "14     0\n",
       "267    0\n",
       "368    0\n",
       "373    1\n",
       "353    0\n",
       "Name: Purchased, Length: 320, dtype: int64"
      ]
     },
     "execution_count": 228,
     "metadata": {},
     "output_type": "execute_result"
    }
   ],
   "source": [
    "y_train"
   ]
  },
  {
   "cell_type": "code",
   "execution_count": 231,
   "id": "be6090bd",
   "metadata": {},
   "outputs": [
    {
     "data": {
      "text/plain": [
       "Gender                 1\n",
       "Age                   42\n",
       "EstimatedSalary    80000\n",
       "Purchased              0\n",
       "Name: 114, dtype: int64"
      ]
     },
     "execution_count": 231,
     "metadata": {},
     "output_type": "execute_result"
    }
   ],
   "source": [
    "df.iloc[114,:]"
   ]
  },
  {
   "cell_type": "code",
   "execution_count": 7,
   "id": "f3849f5a",
   "metadata": {},
   "outputs": [],
   "source": [
    "import pandas as pd\n",
    "import pickle"
   ]
  },
  {
   "cell_type": "code",
   "execution_count": 9,
   "id": "6bfabd16",
   "metadata": {},
   "outputs": [
    {
     "name": "stdout",
     "output_type": "stream",
     "text": [
      "   Gender  Age  EstimatedSalary\n",
      "0       1   42            80000\n"
     ]
    },
    {
     "data": {
      "text/plain": [
       "array([1], dtype=int64)"
      ]
     },
     "execution_count": 9,
     "metadata": {},
     "output_type": "execute_result"
    }
   ],
   "source": [
    "dd=[{\"Gender\":\"Male\",\"Age\":42,\"EstimatedSalary\":80000}]\n",
    "def pred(df):\n",
    "    df=pd.DataFrame(df)\n",
    "    df['Gender'].replace({\"Male\":1,\"Female\":0},inplace=True)\n",
    "    print(df)\n",
    "    normal_model=pickle.load(open(r\"E:\\10.python\\project\\advertiment_prediction\\model_api\\Normal_Scale_model.pkl\",\"rb\"))\n",
    "    normal_model.transform(df)\n",
    "\n",
    "    model_adv=pickle.load(open(r\"E:\\10.python\\project\\advertiment_prediction\\model_api\\KNN_model.pkl\",'rb'))\n",
    "    result=model_adv.predict(df) \n",
    "    return result\n",
    "ys=pred(dd)  \n",
    "ys"
   ]
  },
  {
   "cell_type": "code",
   "execution_count": 89,
   "id": "f4e945f4",
   "metadata": {},
   "outputs": [
    {
     "name": "stderr",
     "output_type": "stream",
     "text": [
      "C:\\Users\\91703\\AppData\\Local\\Programs\\Python\\Python310\\lib\\site-packages\\sklearn\\base.py:450: UserWarning: X does not have valid feature names, but MinMaxScaler was fitted with feature names\n",
      "  warnings.warn(\n"
     ]
    }
   ],
   "source": [
    "array=norm_model.transform([[1.0,35,20000]])"
   ]
  },
  {
   "cell_type": "code",
   "execution_count": 91,
   "id": "3d6ab02c",
   "metadata": {},
   "outputs": [
    {
     "name": "stderr",
     "output_type": "stream",
     "text": [
      "C:\\Users\\91703\\AppData\\Local\\Programs\\Python\\Python310\\lib\\site-packages\\sklearn\\base.py:450: UserWarning: X does not have valid feature names, but KNeighborsClassifier was fitted with feature names\n",
      "  warnings.warn(\n"
     ]
    },
    {
     "data": {
      "text/plain": [
       "array([1], dtype=int64)"
      ]
     },
     "execution_count": 91,
     "metadata": {},
     "output_type": "execute_result"
    }
   ],
   "source": [
    "KNN_model.predict(array)"
   ]
  },
  {
   "cell_type": "code",
   "execution_count": null,
   "id": "2bdd23da",
   "metadata": {},
   "outputs": [],
   "source": [
    "Male\t35\t20000\t"
   ]
  },
  {
   "cell_type": "code",
   "execution_count": 235,
   "id": "5bb49925",
   "metadata": {},
   "outputs": [
    {
     "data": {
      "text/plain": [
       "array([1, 0, 1, 0, 0, 1, 0, 1, 0, 1, 0, 1, 0, 0, 0, 1, 0, 0, 0, 1, 1, 1,\n",
       "       0, 0, 0, 1, 0, 0, 0, 1, 0, 1, 0, 0, 0, 1, 1, 0, 0, 0, 1, 0, 0, 0,\n",
       "       0, 0, 0, 1, 1, 0, 0, 1, 1, 0, 0, 0, 1, 1, 0, 1, 0, 1, 1, 0, 1, 0,\n",
       "       0, 1, 1, 1, 1, 0, 0, 1, 1, 0, 0, 1, 0, 1, 0, 1, 1, 0, 0, 1, 0, 0,\n",
       "       1, 0, 0, 1, 0, 1, 0, 0, 1, 0, 1, 1, 0, 0, 1, 1, 0, 1, 0, 0, 0, 1,\n",
       "       0, 1, 0, 0, 1, 0, 1, 1, 1, 0, 1, 0, 0, 0, 1, 0, 0, 1, 0, 0, 1, 0,\n",
       "       0, 0, 0, 1, 0, 1, 1, 0, 1, 0, 0, 1, 0, 0, 1, 0, 1, 0, 0, 0, 1, 0,\n",
       "       0, 0, 1, 1, 1, 0, 0, 0, 1, 1, 0, 0, 1, 1, 0, 0, 1, 0, 1, 1, 0, 0,\n",
       "       0, 0, 0, 0, 1, 1, 0, 0, 0, 1, 0, 0, 0, 1, 0, 1, 1, 0, 0, 0, 0, 0,\n",
       "       0, 1, 0, 0, 0, 0, 0, 1, 0, 0, 1, 0, 0, 0, 0, 0, 1, 0, 0, 0, 0, 0,\n",
       "       1, 0, 0, 0, 1, 1, 0, 0, 1, 0, 1, 0, 1, 0, 1, 1, 1, 0, 0, 0, 1, 0,\n",
       "       0, 0, 0, 0, 0, 0, 0, 0, 0, 0, 1, 1, 1, 0, 1, 0, 1, 0, 0, 1, 0, 0,\n",
       "       1, 0, 0, 0, 1, 0, 0, 0, 1, 1, 0, 0, 1, 1, 0, 0, 0, 0, 1, 1, 0, 0,\n",
       "       0, 0, 1, 1, 0, 0, 0, 0, 0, 1, 0, 0, 0, 0, 1, 0, 1, 0, 0, 1, 0, 1,\n",
       "       1, 1, 1, 1, 0, 1, 1, 0, 0, 0, 1, 0], dtype=int64)"
      ]
     },
     "execution_count": 235,
     "metadata": {},
     "output_type": "execute_result"
    }
   ],
   "source": [
    "y_pred_train"
   ]
  },
  {
   "cell_type": "code",
   "execution_count": 239,
   "id": "2107794a",
   "metadata": {},
   "outputs": [
    {
     "data": {
      "text/plain": [
       "1.0"
      ]
     },
     "execution_count": 239,
     "metadata": {},
     "output_type": "execute_result"
    }
   ],
   "source": [
    "accuracy_score(ys,y_pred_train)"
   ]
  },
  {
   "cell_type": "code",
   "execution_count": 48,
   "id": "a79f183f",
   "metadata": {},
   "outputs": [
    {
     "data": {
      "text/html": [
       "<div>\n",
       "<style scoped>\n",
       "    .dataframe tbody tr th:only-of-type {\n",
       "        vertical-align: middle;\n",
       "    }\n",
       "\n",
       "    .dataframe tbody tr th {\n",
       "        vertical-align: top;\n",
       "    }\n",
       "\n",
       "    .dataframe thead th {\n",
       "        text-align: right;\n",
       "    }\n",
       "</style>\n",
       "<table border=\"1\" class=\"dataframe\">\n",
       "  <thead>\n",
       "    <tr style=\"text-align: right;\">\n",
       "      <th></th>\n",
       "      <th>Gender</th>\n",
       "      <th>Age</th>\n",
       "      <th>EstimatedSalary</th>\n",
       "    </tr>\n",
       "  </thead>\n",
       "  <tbody>\n",
       "    <tr>\n",
       "      <th>235</th>\n",
       "      <td>1.0</td>\n",
       "      <td>0.666667</td>\n",
       "      <td>0.474074</td>\n",
       "    </tr>\n",
       "    <tr>\n",
       "      <th>114</th>\n",
       "      <td>1.0</td>\n",
       "      <td>0.571429</td>\n",
       "      <td>0.481481</td>\n",
       "    </tr>\n",
       "    <tr>\n",
       "      <th>388</th>\n",
       "      <td>1.0</td>\n",
       "      <td>0.690476</td>\n",
       "      <td>0.140741</td>\n",
       "    </tr>\n",
       "    <tr>\n",
       "      <th>288</th>\n",
       "      <td>1.0</td>\n",
       "      <td>0.547619</td>\n",
       "      <td>0.474074</td>\n",
       "    </tr>\n",
       "    <tr>\n",
       "      <th>186</th>\n",
       "      <td>0.0</td>\n",
       "      <td>0.047619</td>\n",
       "      <td>0.496296</td>\n",
       "    </tr>\n",
       "    <tr>\n",
       "      <th>...</th>\n",
       "      <td>...</td>\n",
       "      <td>...</td>\n",
       "      <td>...</td>\n",
       "    </tr>\n",
       "    <tr>\n",
       "      <th>14</th>\n",
       "      <td>1.0</td>\n",
       "      <td>0.000000</td>\n",
       "      <td>0.496296</td>\n",
       "    </tr>\n",
       "    <tr>\n",
       "      <th>267</th>\n",
       "      <td>1.0</td>\n",
       "      <td>0.452381</td>\n",
       "      <td>0.437037</td>\n",
       "    </tr>\n",
       "    <tr>\n",
       "      <th>368</th>\n",
       "      <td>1.0</td>\n",
       "      <td>0.476190</td>\n",
       "      <td>0.414815</td>\n",
       "    </tr>\n",
       "    <tr>\n",
       "      <th>373</th>\n",
       "      <td>1.0</td>\n",
       "      <td>0.976190</td>\n",
       "      <td>0.851852</td>\n",
       "    </tr>\n",
       "    <tr>\n",
       "      <th>353</th>\n",
       "      <td>0.0</td>\n",
       "      <td>0.452381</td>\n",
       "      <td>0.311111</td>\n",
       "    </tr>\n",
       "  </tbody>\n",
       "</table>\n",
       "<p>320 rows × 3 columns</p>\n",
       "</div>"
      ],
      "text/plain": [
       "     Gender       Age  EstimatedSalary\n",
       "235     1.0  0.666667         0.474074\n",
       "114     1.0  0.571429         0.481481\n",
       "388     1.0  0.690476         0.140741\n",
       "288     1.0  0.547619         0.474074\n",
       "186     0.0  0.047619         0.496296\n",
       "..      ...       ...              ...\n",
       "14      1.0  0.000000         0.496296\n",
       "267     1.0  0.452381         0.437037\n",
       "368     1.0  0.476190         0.414815\n",
       "373     1.0  0.976190         0.851852\n",
       "353     0.0  0.452381         0.311111\n",
       "\n",
       "[320 rows x 3 columns]"
      ]
     },
     "execution_count": 48,
     "metadata": {},
     "output_type": "execute_result"
    }
   ],
   "source": [
    "x_train"
   ]
  },
  {
   "cell_type": "code",
   "execution_count": 243,
   "id": "1ed94474",
   "metadata": {},
   "outputs": [
    {
     "data": {
      "text/plain": [
       "Gender                 1\n",
       "Age                   41\n",
       "EstimatedSalary    79000\n",
       "Purchased              0\n",
       "Name: 288, dtype: int64"
      ]
     },
     "execution_count": 243,
     "metadata": {},
     "output_type": "execute_result"
    }
   ],
   "source": [
    "df.loc[288,:]"
   ]
  },
  {
   "cell_type": "code",
   "execution_count": null,
   "id": "f9f8d38d",
   "metadata": {},
   "outputs": [],
   "source": []
  }
 ],
 "metadata": {
  "kernelspec": {
   "display_name": "Python [conda env:env_adv] *",
   "language": "python",
   "name": "conda-env-env_adv-py"
  },
  "language_info": {
   "codemirror_mode": {
    "name": "ipython",
    "version": 3
   },
   "file_extension": ".py",
   "mimetype": "text/x-python",
   "name": "python",
   "nbconvert_exporter": "python",
   "pygments_lexer": "ipython3",
   "version": "3.7.13"
  }
 },
 "nbformat": 4,
 "nbformat_minor": 5
}
